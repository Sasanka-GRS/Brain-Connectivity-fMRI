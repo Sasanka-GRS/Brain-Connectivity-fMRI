{
 "cells": [
  {
   "cell_type": "code",
   "execution_count": 1,
   "id": "7aacc558-5ea0-4999-8b6a-117c63b1dfad",
   "metadata": {},
   "outputs": [],
   "source": [
    "from scipy.io import loadmat\n",
    "import numpy as np\n",
    "from nilearn import *\n",
    "import nilearn\n",
    "import matplotlib.pyplot as plt\n",
    "import nibabel as nibd\n",
    "\n",
    "aal_atlas = datasets.fetch_atlas_aal()\n",
    "brain_img = '../../extract_data/wrsHU0303-0901-00009-000001-01.img'"
   ]
  },
  {
   "cell_type": "code",
   "execution_count": 2,
   "id": "5cb9acd7-16b1-42d8-bc21-d18305eac66a",
   "metadata": {},
   "outputs": [
    {
     "name": "stdout",
     "output_type": "stream",
     "text": [
      "(1, 1)\n"
     ]
    }
   ],
   "source": [
    "layouts = loadmat('../../extract_data/nodeLayouts.mat')\n",
    "layout = layouts['locs']\n",
    "\n",
    "gft303 = loadmat('./gft/303_GFTFiltered.mat')\n",
    "\n",
    "Spar303 = gft303['Spar'];\n",
    "LPF = np.array(Spar303['LPF']);\n",
    "BPF = Spar303['BPF'];\n",
    "HPF = Spar303['HPF'];\n",
    "\n",
    "N = LPF.shape\n",
    "print(N)"
   ]
  },
  {
   "cell_type": "code",
   "execution_count": 13,
   "id": "f88e712d-830c-472a-bccb-d8c0f1e4a0f6",
   "metadata": {},
   "outputs": [
    {
     "name": "stdout",
     "output_type": "stream",
     "text": [
      "54\n"
     ]
    }
   ],
   "source": [
    "regions_of_interest = ['Cingulum_Ant_L', 'Cingulum_Ant_R', 'Amygdala_L', 'Amygdala_R', 'Angular_L', 'Angular_R', 'Frontal_Inf_Oper_L', 'Frontal_Inf_Oper_R', 'Frontal_Inf_Orb_L', 'Frontal_Inf_Orb_R', 'Frontal_Inf_Tri_L', 'Frontal_Inf_Tri_R', 'Frontal_Med_Orb_L', 'Frontal_Med_Orb_R', 'Frontal_Mid_L', 'Frontal_Mid_Orb_L', 'Frontal_Mid_Orb_R', 'Frontal_Mid_R', 'Frontal_Sup_L', 'Frontal_Sup_Medial_L', 'Frontal_Sup_Medial_R', 'Frontal_Sup_Orb_L', 'Frontal_Sup_Orb_R', 'Frontal_Sup_R', 'Fusiform_L', 'Fusiform_R', 'Hippocampus_L', 'Hippocampus_R', 'Insula_L', 'Insula_R', 'Occipital_Inf_R', 'Occipital_Inf_L', 'Occipital_Mid_L', 'Occipital_Mid_R', 'Occipital_Sup_L', 'Occipital_Sup_R', 'ParaHippocampal_L', 'ParaHippocampal_R', 'Parietal_Inf_L', 'Parietal_Inf_R', 'Parietal_Sup_L', 'Parietal_Sup_R', 'Cingulum_Post_L', 'Cingulum_Post_R', 'Precuneus_L', 'Precuneus_R', 'SupraMarginal_L', 'SupraMarginal_R', 'Temporal_Inf_L', 'Temporal_Sup_L', 'Temporal_Sup_R', 'Temporal_Inf_R', 'Thalamus_L', 'Thalamus_R']\n",
    "\n",
    "# Create a new atlas containing only the desired regions\n",
    "subset_atlas_img = aal_atlas.maps\n",
    "subset_atlas_img = subset_atlas_img.slicer[..., [aal_atlas.labels.index(region) for region in regions_of_interest]]"
   ]
  },
  {
   "cell_type": "code",
   "execution_count": null,
   "id": "7282573e-8253-412b-a59c-838b1772116d",
   "metadata": {},
   "outputs": [],
   "source": [
    "for i in arange(T): \n",
    "    graph_signal = Sim303[:,i]  # Filtered signals\n",
    "    \n",
    "    # Plot the signal on the brain using the subatlas\n",
    "    plotting.plot_stat_map(subatlas_img, bg_img=brain_img,\n",
    "                       title=\"Graph Signal on Brain\", colorbar=True,\n",
    "                       cut_coords=(0, 0, 0), display_mode='ortho',\n",
    "                       cmap='viridis', threshold=0.5, annotate=False)\n",
    "\n",
    "    # Display the graph signal values on the subatlas\n",
    "    for i, value in enumerate(graph_signal):\n",
    "        print(f\"Region {i+1}, Graph Signal Value: {value[0]}\")"
   ]
  }
 ],
 "metadata": {
  "kernelspec": {
   "display_name": "Python 3 (ipykernel)",
   "language": "python",
   "name": "python3"
  },
  "language_info": {
   "codemirror_mode": {
    "name": "ipython",
    "version": 3
   },
   "file_extension": ".py",
   "mimetype": "text/x-python",
   "name": "python",
   "nbconvert_exporter": "python",
   "pygments_lexer": "ipython3",
   "version": "3.12.0"
  }
 },
 "nbformat": 4,
 "nbformat_minor": 5
}
